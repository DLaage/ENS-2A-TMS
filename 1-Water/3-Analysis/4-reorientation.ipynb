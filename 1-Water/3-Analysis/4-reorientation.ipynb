{
 "cells": [
  {
   "cell_type": "code",
   "execution_count": null,
   "id": "4cb21662",
   "metadata": {},
   "outputs": [],
   "source": [
    "import numpy as np\n",
    "import matplotlib.pyplot as plt\n",
    "%matplotlib inline\n",
    "\n",
    "import MDAnalysis as mda\n",
    "from MDAnalysis.analysis.waterdynamics import WaterOrientationalRelaxation as WOR\n",
    "from scipy.optimize import curve_fit"
   ]
  },
  {
   "cell_type": "code",
   "execution_count": null,
   "id": "59d510e2-9cc6-4bc6-8837-f5c3c94ae784",
   "metadata": {},
   "outputs": [],
   "source": [
    "mda_traj = mda.Universe(\"../1-Trajectory/topology.pdb\", \"../1-Trajectory/traj.xyz\", dt=0.01) # dt=0.01 ps\n",
    "mda_traj.dimensions = [Lx, Ly, Lz, 90, 90, 90] # PBC box : lx ly lz alpha beta gamma"
   ]
  },
  {
   "cell_type": "code",
   "execution_count": null,
   "id": "ab9b876b",
   "metadata": {},
   "outputs": [],
   "source": [
    "all_vec_H2O_dipole = np.zeros((mda_traj.trajectory.n_frames,np.sum(mda_traj.atoms.names == \"O\"),3))\n",
    "for t in range(mda_traj.trajectory.n_frames):\n",
    "    vOH1_t = mda_traj.trajectory[t].positions[np.roll(mda_traj.atoms.names == \"O\",1),:] - mda_traj.trajectory[t].positions[mda_traj.atoms.names == \"O\",:]\n",
    "    vOH2_t = mda_traj.trajectory[t].positions[np.roll(mda_traj.atoms.names == \"O\",2),:] - mda_traj.trajectory[t].positions[mda_traj.atoms.names == \"O\",:]\n",
    "    mda_traj.dimensions[0]\n",
    "    vOH1_t = ((vOH1_t + mda_traj.dimensions[0]/2 )%mda_traj.dimensions[0] )-(mda_traj.dimensions[0]/2)\n",
    "    vOH2_t = ((vOH2_t + mda_traj.dimensions[0]/2 )%mda_traj.dimensions[0] )-(mda_traj.dimensions[0]/2)\n",
    "    dipole_OHH_t = vOH1_t + vOH2_t\n",
    "    all_vec_H2O_dipole[t,:,0] = dipole_OHH_t[:,0]/np.linalg.norm(dipole_OHH_t,axis=-1)\n",
    "    all_vec_H2O_dipole[t,:,1] = dipole_OHH_t[:,1]/np.linalg.norm(dipole_OHH_t,axis=-1)\n",
    "    all_vec_H2O_dipole[t,:,2] = dipole_OHH_t[:,2]/np.linalg.norm(dipole_OHH_t,axis=-1)"
   ]
  },
  {
   "cell_type": "code",
   "execution_count": null,
   "id": "31124d3d",
   "metadata": {},
   "outputs": [],
   "source": [
    "def reorientation_P1(mda_object, origin_sep = 100):\n",
    "    # compute the array at all times (axis = 0), all water molecules (axis = 1), of the normalized dipole vector\n",
    "    all_vec_H2O_dipole = np.zeros((mda_traj.trajectory.n_frames,np.sum(mda_traj.atoms.names == \"O\"),3))\n",
    "    for t in range(mda_traj.trajectory.n_frames):\n",
    "        vOH1_t = mda_traj.trajectory[t].positions[np.roll(mda_traj.atoms.names == \"O\",1),:] - mda_traj.trajectory[t].positions[mda_traj.atoms.names == \"O\",:]\n",
    "        vOH2_t = mda_traj.trajectory[t].positions[np.roll(mda_traj.atoms.names == \"O\",2),:] - mda_traj.trajectory[t].positions[mda_traj.atoms.names == \"O\",:]\n",
    "        vOH1_t = ((vOH1_t + mda_traj.dimensions[0]/2 )%mda_traj.dimensions[0] )-(mda_traj.dimensions[0]/2)\n",
    "        vOH2_t = ((vOH2_t + mda_traj.dimensions[0]/2 )%mda_traj.dimensions[0] )-(mda_traj.dimensions[0]/2)\n",
    "        dipole_OHH_t = vOH1_t + vOH2_t\n",
    "        all_vec_H2O_dipole[t,:,0] = dipole_OHH_t[:,0]/np.linalg.norm(dipole_OHH_t,axis=-1)\n",
    "        all_vec_H2O_dipole[t,:,1] = dipole_OHH_t[:,1]/np.linalg.norm(dipole_OHH_t,axis=-1)\n",
    "        all_vec_H2O_dipole[t,:,2] = dipole_OHH_t[:,2]/np.linalg.norm(dipole_OHH_t,axis=-1)\n",
    "    \n",
    "    reorientation_tcf = np.zeros(mda_object.trajectory.n_frames)\n",
    "    reorientation_tcf_norm = np.zeros(mda_object.trajectory.n_frames)\n",
    "\n",
    "    for t0 in range(0, mda_object.trajectory.n_frames, origin_sep):\n",
    "        for t in range(t0,mda_object.trajectory.n_frames):\n",
    "            # average over all O\n",
    "            reorientation_tcf[t-t0] += np.mean(np.sum(all_vec_H2O_dipole[t0,:,:] * all_vec_H2O_dipole[t,:,:], axis=-1))\n",
    "            reorientation_tcf_norm[t-t0] += 1\n",
    "    \n",
    "    return reorientation_tcf / reorientation_tcf_norm"
   ]
  },
  {
   "cell_type": "code",
   "execution_count": null,
   "id": "4689efea",
   "metadata": {},
   "outputs": [],
   "source": [
    "def reorientation_P2(mda_object, origin_sep = 100):\n",
    "    # compute the array at all times (axis = 0), all water molecules (axis = 1), of the normalized dipole vector\n",
    "    all_vec_H2O_dipole = np.zeros((mda_traj.trajectory.n_frames,np.sum(mda_traj.atoms.names == \"O\"),3))\n",
    "    for t in range(mda_traj.trajectory.n_frames):\n",
    "        vOH1_t = mda_traj.trajectory[t].positions[np.roll(mda_traj.atoms.names == \"O\",1),:] - mda_traj.trajectory[t].positions[mda_traj.atoms.names == \"O\",:]\n",
    "        vOH2_t = mda_traj.trajectory[t].positions[np.roll(mda_traj.atoms.names == \"O\",2),:] - mda_traj.trajectory[t].positions[mda_traj.atoms.names == \"O\",:]\n",
    "        vOH1_t = ((vOH1_t + mda_traj.dimensions[0]/2 )%mda_traj.dimensions[0] )-(mda_traj.dimensions[0]/2)\n",
    "        vOH2_t = ((vOH2_t + mda_traj.dimensions[0]/2 )%mda_traj.dimensions[0] )-(mda_traj.dimensions[0]/2)\n",
    "        dipole_OHH_t = vOH1_t + vOH2_t\n",
    "        all_vec_H2O_dipole[t,:,0] = dipole_OHH_t[:,0]/np.linalg.norm(dipole_OHH_t,axis=-1)\n",
    "        all_vec_H2O_dipole[t,:,1] = dipole_OHH_t[:,1]/np.linalg.norm(dipole_OHH_t,axis=-1)\n",
    "        all_vec_H2O_dipole[t,:,2] = dipole_OHH_t[:,2]/np.linalg.norm(dipole_OHH_t,axis=-1)\n",
    "    \n",
    "    reorientation_tcf = np.zeros(mda_object.trajectory.n_frames)\n",
    "    reorientation_tcf_norm = np.zeros(mda_object.trajectory.n_frames)\n",
    "\n",
    "    for t0 in range(0, mda_object.trajectory.n_frames, origin_sep):\n",
    "        for t in range(t0,mda_object.trajectory.n_frames):\n",
    "            # average over all O\n",
    "            reorientation_tcf[t-t0] += np.mean((3*(np.sum(all_vec_H2O_dipole[t0,:,:] * all_vec_H2O_dipole[t,:,:], axis=-1)**2)-1)/2)\n",
    "            reorientation_tcf_norm[t-t0] += 1\n",
    "    \n",
    "    return reorientation_tcf / reorientation_tcf_norm\n",
    "\n",
    "def plot_reorientation(tcf, timestep = 0.01):\n",
    "    \"\"\" Plot reorientation TCF \"\"\"\n",
    "    time = np.asarray([i*timestep for i in range(len(tcf))])\n",
    "    \n",
    "    Fig, ax = plt.subplots(1,1, figsize=(12,8))\n",
    "    ax.plot(time , tcf, c='tab:blue', ls='-', lw=2)\n",
    "    #ax.plot(time, f(time, linear_fit[0], linear_fit[1]), c='red', ls='--', lw=1, label=f'D = {linear_fit[0]:.2f} '+r' $\\AA{}^2 \\cdot ps^{-1}$')\n",
    "    ax.set_xlabel(\"Time [ps]\", size=18)\n",
    "    ax.set_ylabel(\"reorientation TCF\", size=18)\n",
    "    #ax.legend(prop={'size':18}, loc='best')\n",
    "    plt.xticks(size=16)\n",
    "    plt.yticks(size=16)\n",
    "    plt.grid()\n",
    "    plt.axhline(y=0, color='k')\n",
    "    plt.show()\n",
    "    return None"
   ]
  },
  {
   "cell_type": "code",
   "execution_count": null,
   "id": "63cd2acd",
   "metadata": {},
   "outputs": [],
   "source": [
    "reorientation_tcf_P1 = reorientation_P1(mda_traj,100)"
   ]
  },
  {
   "cell_type": "code",
   "execution_count": null,
   "id": "46b39eea",
   "metadata": {},
   "outputs": [],
   "source": [
    "reorientation_tcf_P2 = reorientation_P2(mda_traj,100)"
   ]
  },
  {
   "cell_type": "code",
   "execution_count": null,
   "id": "b7dc7e70",
   "metadata": {},
   "outputs": [],
   "source": [
    "# Plot P1"
   ]
  },
  {
   "cell_type": "code",
   "execution_count": null,
   "id": "7f422554",
   "metadata": {},
   "outputs": [],
   "source": [
    "# Plot P2"
   ]
  },
  {
   "cell_type": "code",
   "execution_count": null,
   "id": "81f11620",
   "metadata": {},
   "outputs": [],
   "source": [
    "# Determine the relaxation time of P1"
   ]
  },
  {
   "cell_type": "code",
   "execution_count": null,
   "id": "aab9e009",
   "metadata": {},
   "outputs": [],
   "source": [
    "# Determine the relaxation time of P2"
   ]
  }
 ],
 "metadata": {
  "kernelspec": {
   "display_name": "Python 3 (ipykernel)",
   "language": "python",
   "name": "python3"
  },
  "language_info": {
   "codemirror_mode": {
    "name": "ipython",
    "version": 3
   },
   "file_extension": ".py",
   "mimetype": "text/x-python",
   "name": "python",
   "nbconvert_exporter": "python",
   "pygments_lexer": "ipython3",
   "version": "3.7.12"
  },
  "vscode": {
   "interpreter": {
    "hash": "37ba7e5c9582a9f421b36d7e546558219787a40efd52e9ce605c383361a6fbf8"
   }
  }
 },
 "nbformat": 4,
 "nbformat_minor": 5
}
