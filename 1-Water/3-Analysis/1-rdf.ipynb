{
 "cells": [
  {
   "cell_type": "code",
   "execution_count": null,
   "id": "4cb21662",
   "metadata": {},
   "outputs": [],
   "source": [
    "import numpy as np\n",
    "import matplotlib.pyplot as plt\n",
    "%matplotlib inline\n",
    "\n",
    "import MDAnalysis as mda\n",
    "from MDAnalysis.analysis import rdf"
   ]
  },
  {
   "cell_type": "code",
   "execution_count": null,
   "id": "59d510e2-9cc6-4bc6-8837-f5c3c94ae784",
   "metadata": {},
   "outputs": [],
   "source": [
    "mda_traj = mda.Universe(\"../1-Trajectory/topology.pdb\", \"../1-Trajectory/traj.xyz\", dt=0.01) # dt=0.01 ps"
   ]
  },
  {
   "cell_type": "code",
   "execution_count": null,
   "id": "1106c0bf-43b0-4543-803f-9ba6cad7e699",
   "metadata": {},
   "outputs": [],
   "source": [
    "mda_traj.dimensions = [Lx, Ly, Lz, 90, 90, 90] # PBC box : lx ly lz alpha beta gamma"
   ]
  },
  {
   "cell_type": "code",
   "execution_count": null,
   "id": "a8602597-96bd-4869-ba41-1a5d802e373b",
   "metadata": {},
   "outputs": [],
   "source": [
    "s1 = mda_traj.select_atoms('name O')\n",
    "s2 = mda_traj.select_atoms('name H')"
   ]
  },
  {
   "cell_type": "code",
   "execution_count": null,
   "id": "b1b55c6c-a739-4ffc-959e-901f289c033e",
   "metadata": {},
   "outputs": [],
   "source": [
    "def plot_rdf(selection1, selection2, graph_title):\n",
    "    rdf_object = rdf.InterRDF(selection1, selection2, nbins=150, range=(0.1,10),verbose=True)\n",
    "    rdf_object.run()\n",
    "    \n",
    "    plt.plot(rdf_object.results.bins, rdf_object.results.rdf)\n",
    "    plt.xlabel(\"r \"+r'[$\\AA{}$]')\n",
    "    plt.ylabel(\"g(r)\")\n",
    "    plt.title(graph_title)\n",
    "    plt.show()"
   ]
  },
  {
   "cell_type": "code",
   "execution_count": 1,
   "id": "3e1fbcf1-bb97-4ea2-b37c-3ffed5531ab0",
   "metadata": {},
   "outputs": [],
   "source": [
    "# Plot the O-O radial distribution function "
   ]
  },
  {
   "cell_type": "code",
   "execution_count": 2,
   "id": "82758c7f",
   "metadata": {},
   "outputs": [],
   "source": [
    "# Plot the O-H radial distribution function "
   ]
  },
  {
   "cell_type": "code",
   "execution_count": null,
   "id": "f502f225",
   "metadata": {},
   "outputs": [],
   "source": [
    "# Plot the H-H radial distribution function "
   ]
  }
 ],
 "metadata": {
  "kernelspec": {
   "display_name": "Python 3 (ipykernel)",
   "language": "python",
   "name": "python3"
  },
  "language_info": {
   "codemirror_mode": {
    "name": "ipython",
    "version": 3
   },
   "file_extension": ".py",
   "mimetype": "text/x-python",
   "name": "python",
   "nbconvert_exporter": "python",
   "pygments_lexer": "ipython3",
   "version": "3.7.12"
  }
 },
 "nbformat": 4,
 "nbformat_minor": 5
}
