{
 "cells": [
  {
   "cell_type": "code",
   "execution_count": 4,
   "metadata": {},
   "outputs": [
    {
     "name": "stdout",
     "output_type": "stream",
     "text": [
      "\n",
      ">> Build first h(t)\n"
     ]
    },
    {
     "name": "stderr",
     "output_type": "stream",
     "text": [
      "100%|██████████| 54/54 [00:06<00:00,  9.75it/s]"
     ]
    },
    {
     "name": "stdout",
     "output_type": "stream",
     "text": [
      "\n",
      ">> Find the first 0 to get kinectic H2O(in) -> H2O(out)\n"
     ]
    },
    {
     "name": "stderr",
     "output_type": "stream",
     "text": [
      "\n",
      "100%|██████████| 54/54 [00:00<00:00, 242.10it/s]"
     ]
    },
    {
     "name": "stdout",
     "output_type": "stream",
     "text": [
      "\n",
      ">> Build correlation h(t)\n"
     ]
    },
    {
     "name": "stderr",
     "output_type": "stream",
     "text": [
      "\n",
      "100%|██████████| 54/54 [00:00<00:00, 6439.38it/s]\n"
     ]
    },
    {
     "data": {
      "image/png": "[encoded data removed]",
      "text/plain": [
       "<Figure size 720x576 with 1 Axes>"
      ]
     },
     "metadata": {
      "needs_background": "light"
     },
     "output_type": "display_data"
    }
   ],
   "source": [
    "import numpy as np\n",
    "import mdtraj as md\n",
    "import tqdm as tq\n",
    "import matplotlib.pyplot as plt\n",
    "\n",
    "##########################\n",
    "#Parameters\n",
    "##########################\n",
    "datafile = \"spcebox.dcd\"            #absolute path of data\n",
    "topofile = \"spcebox-post.psf\"       #absolute path to box\n",
    "\n",
    "#Stride\n",
    "dt       = DCDTIMESTEP                       #Time step of between two time configurations\n",
    "NT       = 1                        #Time steps keep for analysis (1 = 'all', 2 = '1 every 2')\n",
    "\n",
    "#Atom type\n",
    "R       = RADIUSVALUE                       #Cut-off in nm\n",
    "atom    = 'ANION'                       #Atom Type\n",
    "\n",
    "#Plot labels\n",
    "xlabel  = 't (in steps)'\n",
    "ylabel  = 'Number of water molecules still in the shell'\n",
    "\n",
    "#Residue number :\n",
    "# *** TO BE UPDATED FOR EACH SYSTEM ***\n",
    "labeltonumber = {'H2O' : 0, 'K' : 1, 'ANION' : 2}  #\n",
    "atomnumber    = {'H2O' : (0, 2997, 3), 'K' : (2997, 2997 + 54, 1), 'ANION' : (2997 + 54, 2997 + 2 * 54, 1)}\n",
    "\n",
    "#Export data\n",
    "save          = 'hcorr'                #None if not save, else string\n",
    "\n",
    "#types\n",
    "dtype_i = np.int32\n",
    "dtype_f = np.float32\n",
    "\n",
    "##########################\n",
    "#Code\n",
    "##########################\n",
    "def RPBC(xyz, L) :\n",
    "    \"\"\"Estimate the radius around a given reference atom.\"\"\"\n",
    "\n",
    "    #Correct lengths\n",
    "    filt_lo = xyz < -L[None, None, :] / 2        #Adapt L shape\n",
    "    filt_hi = xyz > L[None, None, :] / 2\n",
    "\n",
    "    #Correct lengths\n",
    "    for nax in range(xyz.shape[2]) :\n",
    "        xyz[filt_hi[..., nax], nax] -= L[nax]\n",
    "        xyz[filt_lo[..., nax], nax] += L[nax]\n",
    "\n",
    "        #print(xyz[..., nax].min(), xyz[..., nax].max(), flush = True)\n",
    "\n",
    "    return np.sqrt(np.sum(xyz**2, axis = -1))\n",
    "\n",
    "def indices(n0, nf, nt) :\n",
    "    \"\"\"Select the atom indices you want.\"\"\"\n",
    "    return np.arange(n0, nf, nt, dtype = dtype_i)\n",
    "\n",
    "#Load trajectory\n",
    "traj = md.load(datafile, top = topofile, stride=NT)\n",
    "\n",
    "#Get parameters\n",
    "trajsplit = [traj.atom_slice(indices(*atomnumber[atom])) for atom in atomnumber.keys()]\n",
    "\n",
    "Nframes = traj.n_frames                                             #Number of frame\n",
    "Nmol    = [trajsplit[n].n_atoms for n in range(len(trajsplit))]     #Number of mol for 0 and 1\n",
    "XYZ     = [trajsplit[n].xyz for n in range(len(trajsplit))]         #Trajectory\n",
    "L       = traj.unitcell_lengths[0]                                  #Box lengths at t=0\n",
    "\n",
    "\n",
    "#Allocate a boolean with 0 an 1, representation h.\n",
    "h = np.zeros((Nmol[labeltonumber[atom]], Nframes, Nmol[labeltonumber['H2O']]), dtype = dtype_i)\n",
    "\n",
    "print(\"\\n>> Build first h(t)\", flush = True)\n",
    "for n in tq.tqdm(range(Nmol[labeltonumber[atom]])) :\n",
    "    xyz_ref = XYZ[labeltonumber[atom]][:, n:n+1, :]\n",
    "    xyz_H2O = XYZ[labeltonumber['H2O']]\n",
    "\n",
    "    #Build radius + correction PBC\n",
    "    r = RPBC(xyz_H2O - xyz_ref, L)\n",
    "\n",
    "    #Convert it to boolean\n",
    "    h[n, ...] = r < R                               #Sequence of 0 : r > R, 1 : r < R\n",
    "\n",
    "\n",
    "print(\"\\n>> Find the first 0 to get kinectic H2O(in) -> H2O(out)\", flush = True)\n",
    "#Find the first occurence of 0 if h not in sphere\n",
    "i0 = np.argmin(h, axis = 1)                         #Find the occurence of 0 in time axis\n",
    "for nsol in tq.tqdm(range(Nmol[labeltonumber[atom]])) :\n",
    "    for nW in range(Nmol[labeltonumber['H2O']]) :\n",
    "        h[nsol,i0[nsol, nW]:,nW] = 0                #All the indices i > i0 go to 0\n",
    "\n",
    "\n",
    "#Mean over all the reference atom the product \\sum_i <h_i(t).h_i(0)>\n",
    "print(\"\\n>> Build correlation h(t)\", flush = True)\n",
    "\n",
    "hcorr = np.zeros((Nframes,), dtype = dtype_f)\n",
    "for n in tq.tqdm(range(Nmol[labeltonumber[atom]])) :\n",
    "    #Find water molecules with h(0) = 1\n",
    "    select_H2O_n = h[n, 0, :] == 1\n",
    "\n",
    "    #Sum over it\n",
    "    hcorr += np.sum(h[n, :, select_H2O_n] * h[n, 0:1, select_H2O_n], dtype = dtype_f, axis = 0)\n",
    "\n",
    "#Average by the number of mols\n",
    "hcorr /=  Nmol[labeltonumber[atom]]\n",
    "\n",
    "#Time axis\n",
    "t = dt * np.arange(Nframes, dtype = dtype_f)\n",
    "\n",
    "fig = plt.figure(figsize = (10,8))\n",
    "ax = fig.subplots()\n",
    "ax.plot(t, hcorr, color = 'black')\n",
    "ax.set_title(\"Continuous lifetime of a water molecule around \" + atom)\n",
    "ax.set_xlabel(xlabel)\n",
    "ax.set_ylabel(ylabel)\n",
    "ax.set_xlim(0,None)\n",
    "ax.set_ylim(0,None)\n",
    "\n",
    "#Export fig and data in txt format\n",
    "if bool(save) :\n",
    "    fig.savefig(save + '_' + atom + '.png', transparent = False, format = 'png')\n",
    "    np.savetxt(save + '_' + atom + '.txt', np.concatenate([t[:,None],hcorr[:,None]], axis = -1), header = 't h2')\n"
   ]
  },
  {
   "cell_type": "code",
   "execution_count": null,
   "metadata": {},
   "outputs": [],
   "source": []
  }
 ],
 "metadata": {
  "kernelspec": {
   "display_name": "Python 3",
   "language": "python",
   "name": "python3"
  },
  "language_info": {
   "codemirror_mode": {
    "name": "ipython",
    "version": 3
   },
   "file_extension": ".py",
   "mimetype": "text/x-python",
   "name": "python",
   "nbconvert_exporter": "python",
   "pygments_lexer": "ipython3",
   "version": "3.7.3"
  }
 },
 "nbformat": 4,
 "nbformat_minor": 2
}
