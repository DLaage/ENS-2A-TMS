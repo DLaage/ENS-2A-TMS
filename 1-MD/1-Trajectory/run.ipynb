{
 "cells": [
  {
   "cell_type": "markdown",
   "id": "d773af2a",
   "metadata": {
    "tags": []
   },
   "source": [
    "# Run Lammps"
   ]
  },
  {
   "cell_type": "code",
   "execution_count": null,
   "id": "0ba8f166",
   "metadata": {},
   "outputs": [],
   "source": [
    "from lammps import lammps"
   ]
  },
  {
   "cell_type": "code",
   "execution_count": null,
   "id": "2c88d5a8",
   "metadata": {},
   "outputs": [],
   "source": [
    "args = None\n",
    "\n",
    "lmp = lammps(cmdargs=args)"
   ]
  },
  {
   "cell_type": "code",
   "execution_count": null,
   "id": "3a2a0039",
   "metadata": {},
   "outputs": [],
   "source": [
    "lmp.file(\"in.water\")"
   ]
  }
 ],
 "metadata": {
  "kernelspec": {
   "display_name": "Python 3 (ipykernel)",
   "language": "python",
   "name": "python3"
  },
  "language_info": {
   "codemirror_mode": {
    "name": "ipython",
    "version": 3
   },
   "file_extension": ".py",
   "mimetype": "text/x-python",
   "name": "python",
   "nbconvert_exporter": "python",
   "pygments_lexer": "ipython3",
   "version": "3.7.12"
  }
 },
 "nbformat": 4,
 "nbformat_minor": 5
}
